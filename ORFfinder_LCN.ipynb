{
  "nbformat": 4,
  "nbformat_minor": 0,
  "metadata": {
    "colab": {
      "provenance": [],
      "collapsed_sections": []
    },
    "kernelspec": {
      "name": "python3",
      "display_name": "Python 3"
    }
  },
  "cells": [
    {
      "cell_type": "markdown",
      "metadata": {
        "id": "FaTcLJ5rg1Xx"
      },
      "source": [
        "ORF Finding Method\n",
        "\n",
        "The ORF finder is primarily composed of three functions\n",
        "\n",
        "-   codons(seq, start_c)\n",
        "-   ORF(condonPositions, min_len)\n",
        "-   ORFfinder(dta, nucleotides, sel_gen, rev, min_len)\n",
        "\n",
        "codons() will find all positions of start and stop codons and place them into three lists, one for each frame. Once found, the ORF() function will accept these lists and validate/pair the start and stop codons based on a set minimum length as well as where the previous ORF was found. For each valid start codon, multiple valid stop codons are paired in order to obtain 3 ORFs. Both of these functions are called repeatedly within the ORFfinder() function. Within this function, the ORFcheck() function also runs to determine how many genes the ORF finder finds and how many extraneous ORFs it finds."
      ]
    },
    {
      "cell_type": "markdown",
      "metadata": {
        "id": "q2y3YodnaNO1"
      },
      "source": [
        "<font color='blue'>Cell 1 Loading necessary packages"
      ]
    },
    {
      "cell_type": "code",
      "metadata": {
        "id": "cXjGPv-2j5Rv"
      },
      "source": [
        "import numpy as np\n",
        "import pandas as pd"
      ],
      "execution_count": null,
      "outputs": []
    },
    {
      "cell_type": "markdown",
      "metadata": {
        "id": "FgRigBJsz7s3"
      },
      "source": [
        "<font color='blue'>Cell 2 \n",
        "Reading data"
      ]
    },
    {
      "cell_type": "code",
      "metadata": {
        "id": "Z6RqWmTt3kfn"
      },
      "source": [
        "#Import gene position data \n",
        "#The first element of each row is the start position of the gene\n",
        "#The second is the end position of the gene\n",
        "all_gene_data = pd.read_csv('all_gene_positions.txt',header=None).to_numpy()    \n",
        "gene_position = all_gene_data[0:2269,:]     #Data for forward direction\n",
        "gene_position_r = all_gene_data[2269:,:]    #Data for reverse complement\n",
        "\n",
        "#Read full forward direction genome\n",
        "with open('full_sequence.fasta', 'r') as file:\n",
        "    full_seq = file.read().replace('\\n', '')\n",
        "\n",
        "#Remove first line (description of the data)\n",
        "full_seq = full_seq[71:]\n",
        "\n",
        "#Read full reverse complement direction genome\n",
        "with open('rev_comp.fasta', 'r') as file:\n",
        "    full_rev = file.read().replace('\\n', '')\n",
        "\n",
        "#Remove the first line\n",
        "full_rev = full_rev[82:]"
      ],
      "execution_count": null,
      "outputs": []
    },
    {
      "cell_type": "markdown",
      "metadata": {
        "id": "WTOYpjbqEs8y"
      },
      "source": [
        "\n",
        "\n",
        "# ORF finder"
      ]
    },
    {
      "cell_type": "markdown",
      "metadata": {
        "id": "g21kQsiE0Act"
      },
      "source": [
        "<font color='blue'>Cell 3\n",
        "Finding codon positions"
      ]
    },
    {
      "cell_type": "markdown",
      "metadata": {
        "id": "gFoUF6pYkuQ5"
      },
      "source": [
        "codons(): This function will find the positions at which a start codon or stop codon appears. This function will return two lists (starts and stops), each with three sublists that contain the found positions in three frames.\n",
        "\n",
        "Inputs: \n",
        "-   seq: The sequence being considered, ie. forward or reverse complement sequences (full_seq and full_rev respectively)\n",
        "-   start_c: The start codon considered. This function is called from another function that iterates through ATG, GTG, TTG\n",
        "\n",
        "Inside the function:\n",
        "-   stops: The stop codons that will be found\n",
        "-   lst1: A list that will contain the start codon positions\n",
        "-   lst2: A list that will contain the stop codon positions\n",
        "      - Both lst1 and lst2 are a list of 3 lists where each sublist is the list of positions for each frame.\n",
        "-   while(start < 3): For 'start' iterator values 0, 1, and 2, look at all codons (in frame) from beginning to the end of the sequence. If the codon is a match for the start codon of interest, add it to the corresponding lst1 list. If the codon is a match for any of the stop codons, add it to the corresponding list in lst2. Once the end of the sequence is reached, increment the 'start' iterator to look for codons in the next frame.\n",
        "\n",
        "Outputs:\n",
        "Returns lst1 and lst2 "
      ]
    },
    {
      "cell_type": "code",
      "metadata": {
        "id": "JmiW1XZIK5X_"
      },
      "source": [
        "#ORF Finder part 1: Find codon positions\n",
        "def codons(seq,start_c):\n",
        "  stops = [\"TAA\",\"TGA\",\"TAG\"]   \n",
        "  lst1 = [[],[],[]] #List for the start codons\n",
        "  lst2 = [[],[],[]]  #List for the stop codons\n",
        "  start = 0 #Counter for 3 optional frames\n",
        "  \n",
        "  while (start < 3): #(seq and start < 3)\n",
        "\n",
        "      for i in range(start,len(seq),3):\n",
        "          codon = seq[i:i+3] #The codon is 3 nucleotides.\n",
        "          #print codon + \"\\t\" #Checkpoint \n",
        "          if (codon == start_c): #If the codon is a start codon.\n",
        "              lst1[start].append(i+1) #The position of the start codon.\n",
        "\n",
        "          if (codon in stops): #if the codon is a stop codon.\n",
        "              lst2[start].append(i+1) #Then add the position of the stop codon to lst2.\n",
        "\n",
        "      start += 1 #promotes the starting position to the next reading frame.\n",
        "\n",
        "  return lst1,lst2"
      ],
      "execution_count": null,
      "outputs": []
    },
    {
      "cell_type": "markdown",
      "metadata": {
        "id": "QMOUQ_6H0BbL"
      },
      "source": [
        "<font color='blue'>Cell 4\n",
        "Determining valid ORFs"
      ]
    },
    {
      "cell_type": "markdown",
      "metadata": {
        "id": "xuhsccKHCDIh"
      },
      "source": [
        "ORF(): Pairs the start and stop codon positions found with the codons function to form valid ORF start-stop pairs.\n",
        "\n",
        "Inputs:\n",
        "*   min_len: The minimum length used for determining valid ORFs\n",
        "*   lst1, lst2 are the outputs of the codons() function\n",
        "\n",
        "Inside the function:\n",
        "*   ORFstarts and ORFstops: Lists that will contain the starts and stops of the determined valid ORFs\n",
        "*   all_frames: When looking for ORFs, all start codon positions for all frames will be put into one list. This allows to scan for valid ORF starts sequentially across all frames.\n",
        "*   start_min: Starting from zero, this variable is updated to dictate the position from which the next ORF start will be considered. After a start codon has been paired with its stop codons, this variable is updated with the min_len and the look_back.\n",
        "*   stop_count: The stop position for loop iterates until each valid start codon is paired with 3 stops so long as the min_len condition is met. \n",
        "*   look_back: This parameter is subtracted from the start_min variable to account for the possibility of overlapping ORFs\n",
        "\n",
        "Outputs: \n",
        "-   ORFstarts and ORFstops: These two lists contain the start and stop positions of codons that form true ORFs. Each element in the ORFstarts list is paired with the corresponding element of the ORFstops list, eg. ORFstarts[1] and ORFstops[1] are the indices of the first ORF that was found by the ORF() function.\n",
        "-   found_frame: A list containg the frames for all the valid start codons (only used for diagnostic purposes)\n"
      ]
    },
    {
      "cell_type": "code",
      "metadata": {
        "id": "qLm4Dd4HK5YE"
      },
      "source": [
        "#ORF Finder part 2: Determine valid ORFs\n",
        "def ORF(lst1,lst2):\n",
        "  ORFstarts = []    #Contains the start positions of valid ORFs\n",
        "  ORFstops = []     #Contains the end positions of valid ORFs\n",
        "  min_len = 40 \n",
        "  start_min = 0     #The position from which the next ORF start will be considered\n",
        "  look_back = 5     #Subtracted from start_min to account for overlapping ORFs\n",
        "  max_fr_len = max([len(i) for i in lst1])\n",
        "\n",
        "  #Putting all start codons for all frames into one list\n",
        "  all_frames = lst1[0] + lst1[1] + lst1[2]\n",
        "  #Sorting the list of all start codon positions\n",
        "  all_frames.sort()\n",
        "  \n",
        "\n",
        "  for s_cod in all_frames:\n",
        "    #To be considered valid, the start codon position must be greater than start_min\n",
        "    if s_cod > start_min:\n",
        "      for s_frame in range(len(lst1)):  #Find frame of start codon\n",
        "        if s_cod in lst1[s_frame]:\n",
        "          #frame = lst1[s_frame].index(s_cod)\n",
        "          frame = s_frame   # 'frame' is the frame of the current start codon \n",
        "          found_frame.append(frame)\n",
        "          break\n",
        "      stop_count = 0    #Each valid start codon is paired with 3 stops \n",
        "\n",
        "      #Once the frame of the next start codon is determined, look for valid stop codons in the same frame\n",
        "      for stp_cod in lst2[frame]:\n",
        "        #In the list of stop codons, only consider stops that will satisfy the min_len condition\n",
        "        if stp_cod > s_cod + min_len:\n",
        "          #If the stop satisfies this condition, enter the start stop pair into the corresponding lists\n",
        "          ORFstarts.append(s_cod)\n",
        "          ORFstops.append(stp_cod)\n",
        "          #Increment the stop_count to get 2 more stop codons for the start codon\n",
        "          stop_count +=1 \n",
        "        if stop_count > 2:\n",
        "          #Once 3 stop codons found for the start, update start_min \n",
        "          start_min = start_min + min_len - look_back\n",
        "          #Break out of the stop codons loop and look for the next valid start codon\n",
        "          break\n",
        "\n",
        "  return ORFstarts, ORFstops, found_frame"
      ],
      "execution_count": null,
      "outputs": []
    },
    {
      "cell_type": "markdown",
      "metadata": {
        "id": "HE4vLTs10CnQ"
      },
      "source": [
        "<font color='blue'>Cell 5\n",
        "ORF checking function"
      ]
    },
    {
      "cell_type": "markdown",
      "metadata": {
        "id": "A58r7YYEIEIU"
      },
      "source": [
        "ORFcheck(): Checks which of the ORF start-stop pairs are coding (ie. found in the gene position data) and which are non coding (ie. not found in the gene position data).\n",
        "\n",
        "Inputs: \n",
        "-   ORFstarts and ORFstops are lists from the ORF() function\n",
        "-   gene_pos: The gene position data (either gene_position or gene_position_r)\n",
        "-   rev: A True/False parameter that is set to True if looking at the reverse complement (with gene_position_r), and False otherwise\n",
        "\n",
        "Inside the function:\n",
        "-   wrong_flag: A flag variable that equals 1 for non coding ORFS and 0 for coding ORFs (used to control flow of the loops)\n",
        "-   OC: start-stop pair being tested\n",
        "*   corr: The number of found ORFs that are contained in the gene position data (used for diagnostic purposes)\n",
        "*   corORF: A dataframe of the ORFs (start and end positions) that are contained in the gene position data\n",
        "*   incorORF: A dataframe of the ORFs (start and end positions) that are not contained in the gene position data (non coding ORFs)\n",
        "\n",
        "Outputs: Returns corr, corORF and incorORF"
      ]
    },
    {
      "cell_type": "code",
      "metadata": {
        "id": "YyPMjlE1K5YH"
      },
      "source": [
        "#ORF finder part 3: Determining which found ORFs are coding and non coding\n",
        "def ORFcheck(ORFstr,ORFstp,gene_pos,rev):\n",
        "  corr = 0        #The number of found ORFs that are contained in the gene position data \n",
        "  corORF = np.empty((0,2))   #An array of the ORFs (start and end position) that are contained in the gene position data\n",
        "  incorORF = np.empty((0,2)) #An array of the ORFs (start and end position) that are not in the gene position data (non coding ORFs)\n",
        "  wrong_flag = 1    #A flag variable that is initially set to 1, indicating a non coding ORF\n",
        "\n",
        "  #Iterate through all codons in the ORFstart list\n",
        "  for i in range(len(ORFstr)):\n",
        "    wrong_flag = 1\n",
        "    #OC is current ORF start stop pair that is being tested\n",
        "    #If rev, subtract one from the start position (different indexing)\n",
        "    if rev:\n",
        "      OC = np.array([ORFstr[i]-1, ORFstp[i]+2])\n",
        "    else:\n",
        "      OC = np.array([ORFstr[i], ORFstp[i]+2])\n",
        "    \n",
        "    #The following 2 conditions check to see if OC is contained in the gene position data\n",
        "    if len(np.where(gene_pos==OC)[0]) == 2:\n",
        "      if np.where(gene_pos==OC)[0][0] == np.where(gene_pos==OC)[0][1]:\n",
        "        #If the two conditions are met, then increment 'corr' and enter the ORF start and stop into the corORF array\n",
        "        corr += 1\n",
        "        OC = OC.reshape(1,-1)\n",
        "        corORF = np.concatenate((corORF,OC), axis=0)\n",
        "        #Set the wrong flag to 0 to avoid passing the next condition\n",
        "        wrong_flag = 0\n",
        "    \n",
        "    #If the two conditions are not true, ie. wrong_flag is still 1, enter the ORF pair into the incorORF array\n",
        "    if wrong_flag == 1:\n",
        "      OC = OC.reshape(1,-1)\n",
        "      incorORF = np.concatenate((incorORF,OC), axis=0)\n",
        "  return corr, corORF, incorORF"
      ],
      "execution_count": null,
      "outputs": []
    },
    {
      "cell_type": "markdown",
      "metadata": {
        "id": "KTEKx-WE0Dh1"
      },
      "source": [
        "<font color='blue'>Cell 6\n",
        "Running the previous functions"
      ]
    },
    {
      "cell_type": "markdown",
      "metadata": {
        "id": "3bZKAKltpviV"
      },
      "source": [
        "ORFfinder(): This function simply runs the functions defined above and returns the dataframes of all coding and non coding ORFs found\n",
        "\n",
        "Inputs:\n",
        "*   dta: Either full_seq or full_rev (forward genome sequence or reverse complement genome sequence)\n",
        "*   nucleotides: A parameter to limit the ORFfinder search to reduce processing time (ie. nucleotides = 10000 will only look at the first 10000 nucleotides in the genome)\n",
        "*   sel_gen: The gene position data that is also limited by the 'nucleotides' parameter\n",
        "*  rev and min_len as defined in previous functions\n",
        "\n",
        "Outputs: Returns two arrays, one that holds the start-stop pairs for coding ORFs (all_corORFs) and one that holds the start-stop pairs for non coding ORFs (all_incorORFs)\n"
      ]
    },
    {
      "cell_type": "code",
      "metadata": {
        "id": "HakITOxtK5YL"
      },
      "source": [
        "#ORF Finder part 4: Putting all functions together\n",
        "def ORFfinder(dta, nucleotides, sel_gen, rev):\n",
        "  #Initializing arrays that will contain the correctly and incorrectly\n",
        "  #found ORFs\n",
        "  all_corORFs = np.empty((0,2))\n",
        "  all_incorORFs = np.empty((0,2))\n",
        "  start_codons = [\"ATG\",\"GTG\",\"TTG\"]\n",
        "  #Iterate the ORF finder functions over the start codons\n",
        "  for start_cod in range(len(start_codons)):\n",
        "    #Finding the locations of the start and stop codons\n",
        "    lst1, lst2 = codons(dta[0:nucleotides], start_codons[start_cod])\n",
        "    #Pair valid ORF start and stops locations\n",
        "    ORFstarts, ORFstops, found_frame = ORF(lst1,lst2)\n",
        "    corr, corORF, incorORF = ORFcheck(ORFstarts,ORFstops, sel_gen, rev)\n",
        "    all_corORFs = np.concatenate((all_corORFs,corORF),axis=0)\n",
        "    all_incorORFs = np.concatenate((all_incorORFs,incorORF),axis=0)\n",
        "  return all_corORFs, all_incorORFs"
      ],
      "execution_count": null,
      "outputs": []
    },
    {
      "cell_type": "markdown",
      "metadata": {
        "id": "U2xJttonPnCp"
      },
      "source": [
        "# ORF Finder with an E. coli genome\n",
        "\n"
      ]
    },
    {
      "cell_type": "markdown",
      "metadata": {
        "id": "kYKJhu6aVztz"
      },
      "source": [
        "<font color='blue'>Cell 7\n",
        "Finding ORFs on a section of the E. coli genome"
      ]
    },
    {
      "cell_type": "markdown",
      "metadata": {
        "id": "amCj7i8ws18F"
      },
      "source": [
        "genome_section(): This function takes inputs from the user and runs the ORFfinder() function. This function prints how many coding ORFs and non coding ORFs were found.\n",
        "\n",
        "Output: Returns 2 arrays, one that contains all start-stop pairs for coding and non coding ORFs one the forward genome (all_f_pred), and one that contains all start-stop pairs for coding and non coding ORFs one the reverse complement genome (all_r_pred)."
      ]
    },
    {
      "cell_type": "code",
      "metadata": {
        "id": "BbDMGveBDaLq"
      },
      "source": [
        "def genome_section():\n",
        "  #Get the necessary parameters from the user\n",
        "  nucleotides = input(\"Please enter the number of nucleotides to analyze: \")\n",
        "  min_len = input(\"Please enter the minimum length of ORFs to consider: \")\n",
        "  min_len = int(min_len)\n",
        "  nucleotides = int(nucleotides)\n",
        "  #Limit the forward and reverse complement using the 'nucleotides' parameter\n",
        "  forward_section = full_seq[0:nucleotides]\n",
        "  reverse_section = full_rev[0:nucleotides]\n",
        "\n",
        "  #Limiting the gene position data by the 'nucleotides' parameter \n",
        "  selected_genes_f = np.array([gene_position[i] for i in range(len(gene_position)) if gene_position[i,1] < nucleotides])\n",
        "  selected_genes_r = np.array([gene_position_r[i] for i in range(len(gene_position_r)) if gene_position_r[i,1] < nucleotides])\n",
        "  print(\"-----------------------------------------------------------\\n\")\n",
        "  print(\"There are\", str(len(selected_genes_f)), \"genes on the forward strand\")\n",
        "  print(\"There are\", str(len(selected_genes_r)), \"genes on the reverse strand\")\n",
        "  print(\"-----------------------------------------------------------\\n\")\n",
        "\n",
        "  #Running the ORFfinder function on the forward and reverse complement with the entered parameters\n",
        "  f_corr, f_incorr = ORFfinder(full_seq, nucleotides, selected_genes_f, rev=False, min_len=min_len)\n",
        "  r_corr, r_incorr = ORFfinder(full_rev, nucleotides, selected_genes_r, rev=True, min_len=min_len)\n",
        "\n",
        "  #Printing the number of coding ORFs and non coding ORFs found\n",
        "  print(\"Forward:\")\n",
        "  print(\"\\t\",str(len(f_corr)), \"found correctly\")\n",
        "  print(\"\\t\",str(len(f_incorr)), \"additional ORFs found\")\n",
        "\n",
        "  print(\"Reverse:\")\n",
        "  print(\"\\t\",str(len(r_corr)), \"found correctly\")\n",
        "  print(\"\\t\",str(len(r_incorr)), \"additional ORFs found\")\n",
        "\n",
        "  all_f_pred = np.concatenate((f_corr,f_incorr)).astype(int)\n",
        "  all_r_pred = np.concatenate((r_corr,r_incorr)).astype(int)\n",
        "\n",
        "  return all_f_pred, all_r_pred\n",
        "\n",
        "\n",
        "all_f_pred, all_r_pred = genome_section()"
      ],
      "execution_count": null,
      "outputs": []
    },
    {
      "cell_type": "markdown",
      "metadata": {
        "id": "dsmE67gJV7pE"
      },
      "source": [
        "<font color='blue'>Cell 8\n",
        "Running the previous functions on a fraction of the E. coli genome"
      ]
    },
    {
      "cell_type": "markdown",
      "metadata": {
        "id": "Z_CwNCZvcXtt"
      },
      "source": [
        "This code block outputs the number of ORFs found along with tables of the first 5 ORFs for both the forward and the reverse complement genome sequences. It also contains the function test_genome_ORFs (), which obtains a fraction of the imported genome sequence for ORF testing."
      ]
    },
    {
      "cell_type": "code",
      "metadata": {
        "id": "6e_9ZtoODeks"
      },
      "source": [
        "genome_filename = 'genome1.fasta'\n",
        "def test_genome_ORFs(lim):\n",
        "  test_genome = pd.read_csv(genome_filename,header=None).to_numpy()[0][0]\n",
        "  test_genome = test_genome[0:int(len(test_genome)*lim)]\n",
        "\n",
        "  #Finding reverse complement  \n",
        "  test_genome_r = test_genome[::-1]\n",
        "  tst_gen_rcomp = ''\n",
        "  for i in test_genome_r:\n",
        "    if i == 'A':\n",
        "      tst_gen_rcomp += 'T'\n",
        "    elif i == 'T':\n",
        "      tst_gen_rcomp += 'A'\n",
        "    elif i == 'C':\n",
        "      tst_gen_rcomp += 'G'\n",
        "    else:\n",
        "      tst_gen_rcomp += 'C'\n",
        "  test_genome_r = tst_gen_rcomp\n",
        "\n",
        "  min_len = input(\"Please enter the minimum length of ORFs to consider: \")\n",
        "  print('\\n')\n",
        "  min_len = int(min_len)\n",
        "\n",
        "  start_codons = [\"ATG\",\"GTG\",\"TTG\"]\n",
        "  for start_cod in range(len(start_codons)):\n",
        "    lst1, lst2 = codons(test_genome, start_codons[start_cod])\n",
        "    ORFstarts, ORFstops, found_frame = ORF(lst1,lst2,min_len)\n",
        "    forward_ORFs = [[ORFstarts[i],ORFstops[i]] for i in range(len(ORFstarts))]\n",
        "\n",
        "    lst1_r, lst2_r = codons(test_genome_r, start_codons[start_cod])\n",
        "    ORFstarts_r, ORFstops_r, found_frame = ORF(lst1_r,lst2_r,min_len)\n",
        "\n",
        "    reverse_ORFs = [[ORFstarts_r[i],ORFstops_r[i]] for i in range(len(ORFstarts_r))]\n",
        "\n",
        "    forward_ORFs = pd.DataFrame(forward_ORFs)\n",
        "    forward_ORFs = forward_ORFs.rename(columns={0: \"ORF start location\", 1: \"ORF stop location\"})\n",
        "    reverse_ORFs = pd.DataFrame(reverse_ORFs)\n",
        "    reverse_ORFs = reverse_ORFs.rename(columns={0: \"ORF start location\", 1: \"ORF stop location\"})\n",
        "\n",
        "  print(\"-----------------------------------------------------------\\n\")\n",
        "  print(\"ORFs found on the forward direction:            \", len(ORFstarts))\n",
        "  print(\"ORFs found on the reverse complement direction: \", len(ORFstarts_r))\n",
        "\n",
        "  return forward_ORFs, reverse_ORFs\n",
        "\n",
        "\n",
        "size_limit = float(input(\"Enter a value between 0 and 1 to limit the genome\"))\n",
        "forward_ORFs, reverse_ORFs = test_genome_ORFs(size_limit)\n",
        "\n",
        "print(\"-----------------------------------------------------------\")\n",
        "\n",
        "print(\"\\nThe first 5 ORFs found on the forward direction: \\n\")\n",
        "print(forward_ORFs.iloc[0:5,:])\n",
        "\n",
        "\n",
        "print(\"-----------------------------------------------------------\")\n",
        "\n",
        "print(\"\\nThe first 5 ORFs found on the reverse complement direction: \\n\")\n",
        "print(reverse_ORFs.iloc[0:5,:])\n"
      ],
      "execution_count": null,
      "outputs": []
    }
  ]
}