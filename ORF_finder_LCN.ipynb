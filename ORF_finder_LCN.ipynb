{
  "nbformat": 4,
  "nbformat_minor": 0,
  "metadata": {
    "colab": {
      "name": "ORF finder.ipynb",
      "provenance": [],
      "collapsed_sections": []
    },
    "kernelspec": {
      "name": "python3",
      "display_name": "Python 3"
    }
  },
  "cells": [
    {
      "cell_type": "markdown",
      "metadata": {
        "id": "FaTcLJ5rg1Xx"
      },
      "source": [
        "ORF Finding method:\n",
        "\n",
        "The ORF finder is primarily composed of three functions:\n",
        "-  codons(seq,start_c)\n",
        "-  ORF(lst1,lst2,min_len)\n",
        "-  ORFfinder(dta,nucleotides, sel_gen, rev,min_len):\n",
        "\n",
        "codons(seq, start_c) will find all positions of start and stop codons, and place them into three lists, one for each frame. Once found, the ORF() function will accept these lists and validate/pair the start and stop pairs based on a set minimum length as well as where the previous ORF was found. For each valid start codon, multiple valid stop codons are paired in order to get as many ORFs. Both of these functions are called repeatedly within the ORFfinder() function for the different start codons ATG, TTG, GTG. Within this function, the ORFcheck() function also runs to determine how many genes the ORF finder finds and how many extraneous ORFs it finds"
      ]
    },
    {
      "cell_type": "code",
      "metadata": {
        "id": "cXjGPv-2j5Rv"
      },
      "source": [
        "import numpy as np\n",
        "import pandas as pd"
      ],
      "execution_count": 1,
      "outputs": []
    },
    {
      "cell_type": "markdown",
      "metadata": {
        "id": "FgRigBJsz7s3"
      },
      "source": [
        "<font color='blue'>Cell 2 \n",
        "Reading data"
      ]
    },
    {
      "cell_type": "code",
      "metadata": {
        "id": "Z6RqWmTt3kfn"
      },
      "source": [
        "#Importing gene position data \n",
        "#The first element of each row is the start position of the gene\n",
        "#The second is the end position of the gene\n",
        "all_gene_data = pd.read_csv('all_gene_positions.txt',header=None).to_numpy()    \n",
        "gene_position = all_gene_data[0:2269,:]     #Data for forward direction\n",
        "gene_position_r = all_gene_data[2269:,:]    #Data for reverse complement\n",
        "\n",
        "#Reading full forward direction genome\n",
        "with open('full_sequence.fasta', 'r') as file:\n",
        "    full_seq = file.read().replace('\\n', '')\n",
        "\n",
        "#Remove first line (description of the data)\n",
        "full_seq = full_seq[71:]\n",
        "\n",
        "#Reading full reverse complement direction genome\n",
        "with open('rev_comp.fasta', 'r') as file:\n",
        "    full_rev = file.read().replace('\\n', '')\n",
        "\n",
        "#Remove the first line\n",
        "full_rev = full_rev[82:]"
      ],
      "execution_count": 2,
      "outputs": []
    },
    {
      "cell_type": "markdown",
      "metadata": {
        "id": "5exyTAM0z9OC"
      },
      "source": [
        "<font color='blue'>Cell 3\n",
        "Data set splitting"
      ]
    },
    {
      "cell_type": "code",
      "metadata": {
        "id": "uWZuPB5BVbTq"
      },
      "source": [
        "#The \"sample\" function will sort the data rows (proteins) randomly\n",
        "def split_dataset_test_train(data,train_size):\n",
        "  #Shuffles the data rows randomly\n",
        "  data = data.sample(frac=1).reset_index(drop=True)\n",
        "  #Training data is all rows up to the length of the data set multiplied by 'train_size' (between 0 and 1)\n",
        "  training_data = data.iloc[:int(train_size * len(data))].reset_index(drop=True)\n",
        "  #Test data is all rows after length of the data set multiplied by 'train_size'\n",
        "  testing_data = data.iloc[int(train_size * len(data)):].reset_index(drop=True)\n",
        "  return training_data, testing_data\n"
      ],
      "execution_count": 3,
      "outputs": []
    },
    {
      "cell_type": "code",
      "metadata": {
        "id": "bewEOkkzWjfw"
      },
      "source": [
        ""
      ],
      "execution_count": null,
      "outputs": []
    },
    {
      "cell_type": "markdown",
      "metadata": {
        "id": "WTOYpjbqEs8y"
      },
      "source": [
        "\n",
        "\n",
        "# ORF finder"
      ]
    },
    {
      "cell_type": "markdown",
      "metadata": {
        "id": "g21kQsiE0Act"
      },
      "source": [
        "<font color='blue'>Cell 4\n",
        "Finding codon positions"
      ]
    },
    {
      "cell_type": "markdown",
      "metadata": {
        "id": "gFoUF6pYkuQ5"
      },
      "source": [
        "codons: This function will find the positions at which a start codon or stop codon appears. This function will return two lists (start and stop), each with three sublists that contain the found positions in three frames. \n",
        "\n",
        "Inputs: \n",
        "-   seq: The sequence being considered, ie. forward or reverse complement sequences (full_seq and full_rev respectively)\n",
        "-   start_c: The start codon considered. This function is called from another function that iterates through ATG, GTG, TTG\n",
        "\n",
        "Inside the function:\n",
        "-   stops: The stop codons that will be found\n",
        "-   lst1: A list that will contain the start codon positions\n",
        "-   lst2: A list that will contain the stop codon positions\n",
        "      - Both lst1 and lst2 are a list of 3 lists where each sublist is the list of positions for each frame.\n",
        "-   while(start < 3): For values of iterator 'start' of 0, 1, and 2, look at all codons (in frame) from start to the end of the sequence. If the codon is a match for the start codon of interest, add it to the corresponding lst1 list. If the codon is a match for any of the stop codons, add it to the corresponding list in lst2. Once the end of the sequence is reached, increment the 'start' iterator to look for codons in the next frame.\n",
        "\n",
        "Outputs:\n",
        "-    Returns the lists lst1 and lst2"
      ]
    },
    {
      "cell_type": "code",
      "metadata": {
        "id": "JmiW1XZIK5X_"
      },
      "source": [
        "def codons(seq,start_c):\n",
        "  stops = [\"TAA\",\"TGA\",\"TAG\"] \n",
        "  lst1 = [] #List for the start codons\n",
        "  lst2 = [] #List for the stop codons\n",
        "  start = 0 #The start position of the sequence.\n",
        "  #initializes the lists for 3 to have 3 sublists with positions for each frame\n",
        "  for i in range (3):\n",
        "      lst1.append([])\n",
        "      lst2.append([])\n",
        "  #Add to the lists the positions of the start and stop codons\n",
        "  \n",
        "  while (start < 3): #(seq and start < 3)\n",
        "\n",
        "      for i in range(start,len(seq),3):\n",
        "          codon = seq[i:i+3] #The codon is 3 nucleotides.\n",
        "          #print codon+ \"\\t\"\n",
        "          if (codon == start_c): #If the codon is  a start codon.\n",
        "              lst1[start].append(i+1) #The position of the start codon.\n",
        "\n",
        "          if (codon in stops): #if the codon is a stop codon.\n",
        "              lst2[start].append(i+1) #The position of the stop codon.\n",
        "\n",
        "\n",
        "      start += 1 #promotes the starting position.\n",
        "  return lst1,lst2"
      ],
      "execution_count": 4,
      "outputs": []
    },
    {
      "cell_type": "markdown",
      "metadata": {
        "id": "xuhsccKHCDIh"
      },
      "source": [
        "ORF: Pairs the start and stop codon positions found with the codons function to form valid ORF start stop pairs. \n",
        "\n",
        "Inputs: \n",
        "-   lst1 and lst2 that are the outputs of the 'codons()' function\n",
        "-   min_len: The minimum length used for determining valid ORFs\n",
        "\n",
        "Inside the function:\n",
        "-   ORFstarts and ORFstops: Lists that will contain the starts and stops of the determined valid ORFs\n",
        "-   all_frames: When looking for ORFs, all start codon positions for all frames will be put into one list. This allows to scan for valid ORF starts sequentially across all frames.\n",
        "-   start_min: Starting from zero, this variable is updated to dictate the position from which the next ORF start will be considered. After a start codon has been paired with its stop codons, this variable is updated with the min_len and the look_back. \n",
        "-   look_back: This parameter is subtracted from the start_min variable to account for the possibility of overlapping ORFs\n",
        "\n",
        "Outputs: \n",
        "-   ORFstarts and ORFstops: \n",
        "-   found_frame: A list containg the frames for all the valid start codons (only used for diagnostic purposes)"
      ]
    },
    {
      "cell_type": "markdown",
      "metadata": {
        "id": "QMOUQ_6H0BbL"
      },
      "source": [
        "<font color='blue'>Cell 5\n",
        "Determining valid ORFs"
      ]
    },
    {
      "cell_type": "code",
      "metadata": {
        "id": "qLm4Dd4HK5YE"
      },
      "source": [
        "\n",
        "def ORF(lst1,lst2,min_len):\n",
        "  ORFstarts = []    #Contains the start positions of valid ORFs\n",
        "  ORFstops = []     #Contains the end positions of valid ORFs\n",
        "  found_frame = []  #Was only used for diagnostic purposes\n",
        "  curr_frame = 0    \n",
        "  start_min = 0     #The position from which the next ORF start will be considered\n",
        "  look_back = 5     #Subtracted from start_min to account for overlapping ORFs\n",
        "  max_fr_len = max([len(i) for i in lst1])\n",
        "\n",
        "  #Putting all start codons for all frames into one list\n",
        "  all_frames = lst1[0] + lst1[1] + lst1[2]\n",
        "  #Sorting the list of all start codon positions\n",
        "  all_frames.sort()\n",
        "  \n",
        "\n",
        "  for s_cod in all_frames:\n",
        "    #To be considered valid, the start codon position must be greater than start_min\n",
        "    if s_cod > start_min:\n",
        "      for s_frame in range(len(lst1)):  #Find frame of start codon\n",
        "        if s_cod in lst1[s_frame]:\n",
        "          #frame = lst1[s_frame].index(s_cod)\n",
        "          frame = s_frame   # 'frame' is the frame of the current start codon \n",
        "          found_frame.append(frame)\n",
        "          break\n",
        "      stop_count = 0    #Each valid start codon is paired with 3 stops \n",
        "\n",
        "      #Once the frame of the next start codon is determined, look for valid stop codons in the same frame\n",
        "      for stp_cod in lst2[frame]:\n",
        "        #In the list of stop codons, only consider stops that will satisfy the min_len condition\n",
        "        if stp_cod > s_cod + min_len:\n",
        "          #If the stop satisfies this condition, enter the start stop pair into the corresponding lists\n",
        "          ORFstarts.append(s_cod)\n",
        "          ORFstops.append(stp_cod)\n",
        "          #Increment the stop_count to get 2 more stop codons for the start codon\n",
        "          stop_count +=1 \n",
        "        if stop_count > 2:\n",
        "          #Once 3 stop codons found for the start, update start_min \n",
        "          start_min = start_min + min_len - look_back\n",
        "          #Break out of the stop codons loop and look for the next valid start codon\n",
        "          break\n",
        "\n",
        "\n",
        "\n",
        "  return ORFstarts, ORFstops, found_frame"
      ],
      "execution_count": 5,
      "outputs": []
    },
    {
      "cell_type": "markdown",
      "metadata": {
        "id": "HE4vLTs10CnQ"
      },
      "source": [
        "<font color='blue'>Cell 6\n",
        "ORF checking function"
      ]
    },
    {
      "cell_type": "markdown",
      "metadata": {
        "id": "A58r7YYEIEIU"
      },
      "source": [
        "ORFcheck: Checks which of the ORF start stop pairs are coding (ie. found in the gene position data) and which are non coding. \n",
        "\n",
        "Inputs: \n",
        "-   ORFstarts and ORFstops lists from the ORF() function\n",
        "-   gene_pos: The gene position data (either gene_position or gene_position_r)\n",
        "-   rev: A true/false parameter that is set to true if looking at the reverse complement (with gene_position_r)\n",
        "\n",
        "Inside the function:\n",
        "-   corr: The number of found ORFs that are contained in the gene position data \n",
        "-   corORF: An array of the ORFs (start and end position) that are contained in the gene position data\n",
        "-   incorORF: An array of the ORFs (start and end position) that are not contained in the gene position data (non coding ORFs)"
      ]
    },
    {
      "cell_type": "code",
      "metadata": {
        "id": "YyPMjlE1K5YH"
      },
      "source": [
        "#ORF finder part 3: Determining which found ORFs are correct and incorrect\n",
        "\n",
        "def ORFcheck(ORFstr,ORFstp,gene_pos,rev):\n",
        "  corr = 0        #The number of found ORFs that are contained in the gene position data \n",
        "  corORF = np.empty((0,2))   #An array of the ORFs (start and end position) that are contained in the gene position data\n",
        "  incorORF = np.empty((0,2)) #An array of the ORFs (start and end position) that are not in the gene position data (non coding ORFs)\n",
        "  wrong_flag = 1    #A flag variable that is initially set to 1, indicating a non coding ORF\n",
        "\n",
        "  #Iterate through all codons in the ORFstart list\n",
        "  for i in range(len(ORFstr)):\n",
        "    wrong_flag = 1\n",
        "    #OC is current ORF start stop pair that is being tested\n",
        "    #If rev, subtract one from the start position (different indexing)\n",
        "    if rev:\n",
        "      OC = np.array([ORFstr[i]-1, ORFstp[i]+2])\n",
        "    else:\n",
        "      OC = np.array([ORFstr[i], ORFstp[i]+2])\n",
        "    \n",
        "    #The following 2 conditions check to see if OC is contained in the gene position data\n",
        "    if len(np.where(gene_pos==OC)[0]) == 2:\n",
        "      if np.where(gene_pos==OC)[0][0] == np.where(gene_pos==OC)[0][1]:\n",
        "        #If the two conditions are met, then increment 'corr' and enter the ORF start and stop into the corORF array\n",
        "        corr += 1\n",
        "        OC = OC.reshape(1,-1)\n",
        "        corORF = np.concatenate((corORF,OC), axis=0)\n",
        "        #Set the wrong flag to 0 to avoid passing the next condition\n",
        "        wrong_flag = 0\n",
        "    \n",
        "    #If the two conditions are not true, ie. wrong_flag is still 1, enter the ORF pair into the incorORF array\n",
        "    if wrong_flag == 1:\n",
        "      OC = OC.reshape(1,-1)\n",
        "      incorORF = np.concatenate((incorORF,OC), axis=0)\n",
        "  return corr, corORF, incorORF"
      ],
      "execution_count": 6,
      "outputs": []
    },
    {
      "cell_type": "markdown",
      "metadata": {
        "id": "KTEKx-WE0Dh1"
      },
      "source": [
        "<font color='blue'>Cell 7\n",
        "Running the previous functions with start codons from a list"
      ]
    },
    {
      "cell_type": "markdown",
      "metadata": {
        "id": "3bZKAKltpviV"
      },
      "source": [
        "ORFfinder: This function simply runs the functions defined above for different start codons ATG, GTG, TTG and returns the arrays of all coding and non coding ORFs found\n",
        "\n",
        "Inputs: \n",
        "-   dta: Either full_seq or full_rev (genome sequence)\n",
        "-   nucleotides: A parameter to limit the ORFfinder search (ie. nucleotides = 10000 will only look at the first 10000 nucleotides)\n",
        "-   sel_gen: The gene position data that is also limited by the 'nucleotides' parameter\n",
        "-   rev and min_len as defined in previous functions\n",
        "\n"
      ]
    },
    {
      "cell_type": "code",
      "metadata": {
        "id": "HakITOxtK5YL"
      },
      "source": [
        "def ORFfinder(dta,nucleotides, sel_gen, rev,min_len):\n",
        "  all_corORFs = np.empty((0,2))\n",
        "  all_incorORFs = np.empty((0,2))\n",
        "  start_codons = [\"ATG\",\"GTG\",\"TTG\"]\n",
        "  for start_cod in range(len(start_codons)):\n",
        "    lst1, lst2 = codons(dta[0:nucleotides], start_codons[start_cod])\n",
        "    ORFstarts, ORFstops, found_frame = ORF(lst1,lst2,min_len)\n",
        "    corr, corORF, incorORF = ORFcheck(ORFstarts,ORFstops, sel_gen, rev)\n",
        "    all_corORFs = np.concatenate((all_corORFs,corORF),axis=0)\n",
        "    all_incorORFs = np.concatenate((all_incorORFs,incorORF),axis=0)\n",
        "\n",
        "  return all_corORFs, all_incorORFs"
      ],
      "execution_count": 7,
      "outputs": []
    },
    {
      "cell_type": "markdown",
      "metadata": {
        "id": "U2xJttonPnCp"
      },
      "source": [
        "# ORF Finder\n",
        "\n"
      ]
    },
    {
      "cell_type": "markdown",
      "metadata": {
        "id": "kYKJhu6aVztz"
      },
      "source": [
        "<font color='blue'>Cell 8\n",
        "Finding ORFs on a section of the E. Coli genome"
      ]
    },
    {
      "cell_type": "markdown",
      "metadata": {
        "id": "amCj7i8ws18F"
      },
      "source": [
        "genome_section: This function takes inputs from the user and runs the ORFfinder function. This function outputs in text how many coding ORFs and non coding ORFs were found\n"
      ]
    },
    {
      "cell_type": "code",
      "metadata": {
        "id": "BbDMGveBDaLq",
        "colab": {
          "base_uri": "https://localhost:8080/"
        },
        "outputId": "b413acab-b305-468f-bdfa-80ea0d722bce"
      },
      "source": [
        "def genome_section():\n",
        "  #Get the necessary parameters from the user\n",
        "  nucleotides = input(\"Please enter the number of nucleotides to analyze: \")\n",
        "  min_len = input(\"Please enter the minimum length of ORFs to consider: \")\n",
        "  min_len = int(min_len)\n",
        "  nucleotides = int(nucleotides)\n",
        "  #Limit the forward and reverse complement using the 'nucleotides' parameter\n",
        "  forward_section = full_seq[0:nucleotides]\n",
        "  reverse_section = full_rev[0:nucleotides]\n",
        "\n",
        "  #Limiting the gene position data by the 'nucleotides' parameter \n",
        "  selected_genes_f = np.array([gene_position[i] for i in range(len(gene_position)) if gene_position[i,1] < nucleotides])\n",
        "  selected_genes_r = np.array([gene_position_r[i] for i in range(len(gene_position_r)) if gene_position_r[i,1] < nucleotides])\n",
        "  print(\"-----------------------------------------------------------\\n\")\n",
        "  print(\"There are\", str(len(selected_genes_f)), \"genes on the forward strand\")\n",
        "  print(\"There are\", str(len(selected_genes_r)), \"genes on the reverse strand\")\n",
        "  print(\"-----------------------------------------------------------\\n\")\n",
        "\n",
        "  #Running the ORFfinder function on the forward and reverse complement with the entered parameters\n",
        "  f_corr, f_incorr = ORFfinder(full_seq, nucleotides,selected_genes_f, rev=False,min_len=min_len)\n",
        "  r_corr, r_incorr = ORFfinder(full_rev, nucleotides,selected_genes_r, rev=True,min_len=min_len)\n",
        "\n",
        "  #Printing the number of coding ORFs and non coding ORFs found\n",
        "  print(\"Forward:\")\n",
        "  print(\"\\t\",str(len(f_corr)), \"found correctly\")\n",
        "  print(\"\\t\",str(len(f_incorr)), \"additional ORFs found\")\n",
        "\n",
        "  print(\"Reverse:\")\n",
        "  print(\"\\t\",str(len(r_corr)), \"found correctly\")\n",
        "  print(\"\\t\",str(len(r_incorr)), \"additional ORFs found\")\n",
        "\n",
        "  all_f_pred = np.concatenate((f_corr,f_incorr)).astype(int)\n",
        "  all_r_pred = np.concatenate((r_corr,r_incorr)).astype(int)\n",
        "\n",
        "\n",
        "  return all_f_pred, all_r_pred\n",
        "\n",
        "\n",
        "all_f_pred, all_r_pred = genome_section()"
      ],
      "execution_count": 8,
      "outputs": [
        {
          "output_type": "stream",
          "text": [
            "Please enter the number of nucleotides to analyze: 10000\n",
            "Please enter the minimum length of ORFs to consider: 100\n",
            "-----------------------------------------------------------\n",
            "\n",
            "There are 6 genes on the forward strand\n",
            "There are 3 genes on the reverse strand\n",
            "-----------------------------------------------------------\n",
            "\n",
            "Forward:\n",
            "\t 5 found correctly\n",
            "\t 883 additional ORFs found\n",
            "Reverse:\n",
            "\t 1 found correctly\n",
            "\t 898 additional ORFs found\n"
          ],
          "name": "stdout"
        }
      ]
    },
    {
      "cell_type": "code",
      "metadata": {
        "id": "dB2wedldWWKZ"
      },
      "source": [
        "#stop"
      ],
      "execution_count": null,
      "outputs": []
    },
    {
      "cell_type": "markdown",
      "metadata": {
        "id": "dsmE67gJV7pE"
      },
      "source": [
        "<font color='blue'>Cell 9\n",
        "Running the previous functions with start codons from a list"
      ]
    },
    {
      "cell_type": "code",
      "metadata": {
        "id": "6e_9ZtoODeks",
        "colab": {
          "base_uri": "https://localhost:8080/"
        },
        "outputId": "db4bb4e3-86b8-4077-f68c-806355196c49"
      },
      "source": [
        "genome_filename = 'genome1.fasta'\n",
        "def test_genome_ORFs(lim):\n",
        "  test_genome = pd.read_csv(genome_filename,header=None).to_numpy()[0][0]\n",
        "  test_genome = test_genome[0:int(len(test_genome)*lim)]\n",
        "  #Finding reverse complement  \n",
        "  test_genome_r = test_genome[::-1]\n",
        "  tst_gen_rcomp = ''\n",
        "  for i in test_genome_r:\n",
        "    if i == 'A':\n",
        "      tst_gen_rcomp += 'T'\n",
        "    elif i == 'T':\n",
        "      tst_gen_rcomp += 'A'\n",
        "    elif i == 'C':\n",
        "      tst_gen_rcomp += 'G'\n",
        "    else:\n",
        "      tst_gen_rcomp += 'C'\n",
        "  test_genome_r = tst_gen_rcomp\n",
        "\n",
        "  min_len = input(\"Please enter the minimum length of ORFs to consider: \")\n",
        "  print('\\n')\n",
        "  min_len = int(min_len)\n",
        "\n",
        "  start_codons = [\"ATG\",\"GTG\",\"TTG\"]\n",
        "  for start_cod in range(len(start_codons)):\n",
        "    lst1, lst2 = codons(test_genome, start_codons[start_cod])\n",
        "    ORFstarts, ORFstops, found_frame = ORF(lst1,lst2,min_len)\n",
        "    forward_ORFs = [[ORFstarts[i],ORFstops[i]] for i in range(len(ORFstarts))]\n",
        "\n",
        "\n",
        "    lst1_r, lst2_r = codons(test_genome_r, start_codons[start_cod])\n",
        "    ORFstarts_r, ORFstops_r, found_frame = ORF(lst1_r,lst2_r,min_len)\n",
        "\n",
        "    reverse_ORFs = [[ORFstarts_r[i],ORFstops_r[i]] for i in range(len(ORFstarts_r))]\n",
        "\n",
        "    forward_ORFs = pd.DataFrame(forward_ORFs)\n",
        "    forward_ORFs = forward_ORFs.rename(columns={0: \"ORF start location\", 1: \"ORF stop location\"})\n",
        "    reverse_ORFs = pd.DataFrame(reverse_ORFs)\n",
        "    reverse_ORFs = reverse_ORFs.rename(columns={0: \"ORF start location\", 1: \"ORF stop location\"})\n",
        "  print(\"-----------------------------------------------------------\\n\")\n",
        "  print(\"ORFs found on the forward direction:            \", len(ORFstarts))\n",
        "  print(\"ORFs found on the reverse complement direction: \", len(ORFstarts_r))\n",
        "\n",
        "  return forward_ORFs, reverse_ORFs\n",
        "\n",
        "size_limit = float(input(\"Enter a value between 0 and 1 to limit the genome\"))\n",
        "forward_ORFs, reverse_ORFs = test_genome_ORFs(size_limit)\n",
        "\n",
        "print(\"-----------------------------------------------------------\")\n",
        "\n",
        "print(\"\\nThe first 5 ORFs found on the forward direction: \\n\")\n",
        "print(forward_ORFs.iloc[0:5,:])\n",
        "\n",
        "\n",
        "print(\"-----------------------------------------------------------\")\n",
        "\n",
        "print(\"\\nThe first 5 ORFs found on the reverse complement direction: \\n\")\n",
        "print(reverse_ORFs.iloc[0:5,:])\n"
      ],
      "execution_count": null,
      "outputs": [
        {
          "output_type": "stream",
          "text": [
            "Enter a value between 0 and 1 to limit the genome.2\n",
            "Please enter the minimum length of ORFs to consider: 100\n",
            "\n",
            "\n",
            "-----------------------------------------------------------\n",
            "\n",
            "ORFs found on the forward direction:             8422\n",
            "ORFs found on the reverse complement direction:  8402\n",
            "-----------------------------------------------------------\n",
            "\n",
            "The first 5 ORFs found on the forward direction: \n",
            "\n",
            "   ORF start location  ORF stop location\n",
            "0                  10                337\n",
            "1                  10                346\n",
            "2                  10                364\n",
            "3                 111               1299\n",
            "4                 111               2466\n",
            "-----------------------------------------------------------\n",
            "\n",
            "The first 5 ORFs found on the reverse complement direction: \n",
            "\n",
            "   ORF start location  ORF stop location\n",
            "0                  40                196\n",
            "1                  40                226\n",
            "2                  40                370\n",
            "3                 167               1412\n",
            "4                 167               1481\n"
          ],
          "name": "stdout"
        }
      ]
    }
  ]
}